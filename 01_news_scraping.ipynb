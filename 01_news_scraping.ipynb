{
 "cells": [
  {
   "cell_type": "markdown",
   "id": "91f0199c",
   "metadata": {},
   "source": [
    "#### 1. Daum 뉴스기사 제목 스크래핑 하기"
   ]
  },
  {
   "cell_type": "markdown",
   "id": "2801e699",
   "metadata": {},
   "source": [
    "질문: 아래의 url에서 뉴스기사의 링크와 제목을 출력하세요.\n",
    "\n",
    "    url = 'https://news.daum.net/economy'"
   ]
  },
  {
   "cell_type": "code",
   "execution_count": 2,
   "id": "afcd192a-e477-4982-bc13-2a10eabd6f69",
   "metadata": {},
   "outputs": [],
   "source": [
    "# requests, bs4, BeautifulSoup 클래스 import\n",
    "import requests\n",
    "import bs4\n",
    "from bs4 import BeautifulSoup"
   ]
  },
  {
   "cell_type": "code",
   "execution_count": 4,
   "id": "b7648202",
   "metadata": {},
   "outputs": [
    {
     "name": "stdout",
     "output_type": "stream",
     "text": [
      "https://news.daum.net/economy\n",
      "<Response [200]>\n",
      "<class 'requests.models.Response'>\n",
      "200 True\n"
     ]
    }
   ],
   "source": [
    "# 다음 뉴스 경제 부문\n",
    "url = 'https://news.daum.net/economy'\n",
    "print(url)\n",
    "\n",
    "#요청 헤더 설정 : 브라우저 정보\n",
    "req_header = {\n",
    "    'user-agent': 'Mozilla/5.0 (Windows NT 10.0; Win64; x64) AppleWebKit/537.36 (KHTML, like Gecko) Chrome/135.0.0.0 Safari/537.36'\n",
    "}\n",
    "\n",
    "# requests의 get() 함수 호출\n",
    "res = requests.get(url, headers= req_header)\n",
    "print(res)\n",
    "print(type(res))\n",
    "print(res.status_code, res.ok)"
   ]
  }
 ],
 "metadata": {
  "kernelspec": {
   "display_name": "base",
   "language": "python",
   "name": "python3"
  },
  "language_info": {
   "codemirror_mode": {
    "name": "ipython",
    "version": 3
   },
   "file_extension": ".py",
   "mimetype": "text/x-python",
   "name": "python",
   "nbconvert_exporter": "python",
   "pygments_lexer": "ipython3",
   "version": "3.12.7"
  }
 },
 "nbformat": 4,
 "nbformat_minor": 5
}
