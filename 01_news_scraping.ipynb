{
 "cells": [
  {
   "cell_type": "markdown",
   "id": "91f0199c",
   "metadata": {},
   "source": [
    "#### 1. Daum 뉴스기사 제목 스크래핑 하기"
   ]
  },
  {
   "cell_type": "markdown",
   "id": "2801e699",
   "metadata": {},
   "source": [
    "1-1 질문: 아래의 url에서 뉴스기사의 링크와 제목을 출력하세요.\n",
    "\n",
    "    url = 'https://news.daum.net/economy'"
   ]
  },
  {
   "cell_type": "code",
   "execution_count": 2,
   "id": "afcd192a-e477-4982-bc13-2a10eabd6f69",
   "metadata": {},
   "outputs": [],
   "source": [
    "# requests, bs4, BeautifulSoup 클래스 import\n",
    "import requests\n",
    "import bs4\n",
    "from bs4 import BeautifulSoup"
   ]
  },
  {
   "cell_type": "code",
   "execution_count": null,
   "id": "b7648202",
   "metadata": {},
   "outputs": [
    {
     "name": "stdout",
     "output_type": "stream",
     "text": [
      "https://news.daum.net/economy\n",
      "<Response [200]>\n",
      "<class 'requests.models.Response'>\n",
      "200 True\n",
      "9\n",
      "<class 'bs4.element.ResultSet'>\n",
      "https://v.daum.net/v/20250408174344325\n",
      "메디젠휴먼케어, \"23andMe 파산..한국 유전체 산업의 위기 아닌 기회\"\n",
      "https://v.daum.net/v/20250408174234298\n",
      "돈 쓸곳 많은데···나라살림 적자 또 100조 넘어\n",
      "https://v.daum.net/v/20250408173713085\n",
      "칩 확보서 데이터센터까지···전 산업에 'AI 고속도로' 깔아야\n",
      "https://v.daum.net/v/20250408173626057\n",
      "77년 묵은 정부조직, 데이터 중심 대수술···'AI 부총리' 도입을\n",
      "https://v.daum.net/v/20250408172845794\n",
      "[이슈ON] 마은혁 받고 '윤 절친' 이완규 투입...한덕수는 왜?\n",
      "https://v.daum.net/v/20250408161553109\n",
      "트럼프발 주가폭락에 동아 \"경제적 핵전쟁\" 조선 \"금융위기 후 최악\"\n",
      "https://v.daum.net/v/20250408160526681\n",
      "공황과 격변의 판도라 박스가 열리다\n",
      "https://v.daum.net/v/20250408154329660\n",
      "해외서 발 뺀 이중항체, 韓 기업들이 이끈다\n",
      "https://v.daum.net/v/20250408153003030\n",
      "탄핵 끝났는데 韓경제 ‘봄’은 언제 오나…박근혜 때와 다른 이유\n"
     ]
    }
   ],
   "source": [
    "# 다음 뉴스 경제 부문\n",
    "url = 'https://news.daum.net/economy'\n",
    "print(url)\n",
    "\n",
    "#요청 헤더 설정 : 브라우저 정보\n",
    "req_header = {\n",
    "    'user-agent': 'Mozilla/5.0 (Windows NT 10.0; Win64; x64) AppleWebKit/537.36 (KHTML, like Gecko) Chrome/135.0.0.0 Safari/537.36'\n",
    "}\n",
    "\n",
    "# requests의 get() 함수 호출\n",
    "res = requests.get(url, headers= req_header)\n",
    "res.encoding = 'utf-8' #인코딩 설정\n",
    "print(res)\n",
    "print(type(res))\n",
    "print(res.status_code, res.ok)\n",
    "\n",
    "# 응답(response)이 OK 이면\n",
    "if res.ok:\n",
    "    # 응답 (response)에서 text 추출 - 마우스 우클릭 source 보기\n",
    "    html = res.text\n",
    "    \n",
    "    # BeautifulSoup 객체 생성  \n",
    "    soup = BeautifulSoup(html,'html.parser')\n",
    "    \n",
    "    #CSS 선택자\n",
    "    print(len(soup.select('ul.list_newsheadline2 li')))\n",
    "    li_tag_list = soup.select(\"ul.list_newsheadline2 li\")\n",
    "    print(type(li_tag_list))\n",
    "    \n",
    "    # li 태그 리스트 순회하기기\n",
    "    for li_tag in soup.select('ul.list_newsheadline2 li'):\n",
    "        a_tag = li_tag.find('a')\n",
    "        link = a_tag['href'] #링크는 a tag에 존재\n",
    "        print(link)\n",
    "        strong_tag = li_tag.select_one('div.cont_thumb strong.tit_txt')\n",
    "        title = strong_tag.text #title은 strong tag에 존재재\n",
    "        print(title)\n",
    "        \n",
    "else:\n",
    "    # 응답(response)이 Error 이면 status code 출력  \n",
    "    print(f'에러 코드 = {res.status_code}')     "
   ]
  },
  {
   "cell_type": "markdown",
   "id": "c783d1a6",
   "metadata": {},
   "source": [
    "1-2 질문:  여러개의 section 중 하나를 선택해서 url에서 뉴스기사의 링크와 제목을 출력하는 코드를 함수로 작성하기\n",
    "    \n",
    "    # 경제 뉴스 URL\n",
    "    url = 'https://news.daum.net/economy'\n",
    "    # 사회 뉴스 URL\n",
    "    url = 'https://news.daum.net/society'\n"
   ]
  },
  {
   "cell_type": "code",
   "execution_count": 92,
   "id": "533feb8b",
   "metadata": {},
   "outputs": [],
   "source": [
    "import requests\n",
    "from bs4 import BeautifulSoup\n",
    "\n",
    "section_dict = {\n",
    "    \"기후/환경\": \"climate\",\n",
    "    \"사회\": \"society\",\n",
    "    \"경제\": \"economy\",\n",
    "    \"정치\": \"politics\",\n",
    "    \"국제\": \"world\",\n",
    "    \"문화\": \"culture\",\n",
    "    \"생활\": \"life\",\n",
    "    \"IT/과학\": \"tech\",\n",
    "    \"인물\": \"people\",\n",
    "}\n",
    "\n",
    "# 함수 선언\n",
    "def print_news(sid):\n",
    "    section = section_dict[sid]\n",
    "    \n",
    "    url = f\"https://news.daum.net/{section}\"\n",
    "    print(f\"====> {url} {sid} 뉴스 <====\")\n",
    "    \n",
    "    #요청 헤더 설정 : 브라우저 정보\n",
    "    req_header = {\n",
    "    'user-agent': 'Mozilla/5.0 (Windows NT 10.0; Win64; x64) AppleWebKit/537.36 (KHTML, like Gecko) Chrome/135.0.0.0 Safari/537.36'\n",
    "    }\n",
    "\n",
    "    # requests의 get() 함수 호출\n",
    "    res = requests.get(url, headers= req_header)\n",
    "    res.encoding = 'utf-8' #인코딩 설정\n",
    "    \n",
    "    # 응답(response)이 OK 이면\n",
    "    if res.ok:\n",
    "        # 응답 (response)에서 text 추출 - 마우스 우클릭 source 보기\n",
    "        html = res.text\n",
    "        \n",
    "        # BeautifulSoup 객체 생성  \n",
    "        soup = BeautifulSoup(html,'html.parser')\n",
    "        \n",
    "        #CSS 선택자\n",
    "        li_tag_list = soup.select(\"ul.list_newsheadline2 li\")\n",
    "    \n",
    "        # li 태그 리스트 순회하기기\n",
    "        for li_tag in soup.select('ul.list_newsheadline2 li'):\n",
    "            a_tag = li_tag.find('a')\n",
    "            link = a_tag['href'] #링크는 a tag에 존재\n",
    "            print(link)\n",
    "            strong_tag = li_tag.select_one('div.cont_thumb strong.tit_txt')\n",
    "            title = strong_tag.text #title은 strong tag에 존재재\n",
    "            print(title)\n",
    "    else:\n",
    "        # 응답(response)이 Error 이면 status code 출력  \n",
    "        print(f'에러 코드 = {res.status_code}')     "
   ]
  },
  {
   "cell_type": "code",
   "execution_count": 95,
   "id": "25ec1317",
   "metadata": {},
   "outputs": [
    {
     "name": "stdout",
     "output_type": "stream",
     "text": [
      "====> https://news.daum.net/economy 경제 뉴스 <====\n",
      "https://v.daum.net/v/20250408181016275\n",
      "관세 다음은 환율전쟁? 美 ‘100년물 미국채 강매’까지 만지작\n",
      "https://v.daum.net/v/20250408180502078\n",
      "세수 펑크에 빛 바랜 건전재정…나라살림 적자 또 100조 넘었다\n",
      "https://v.daum.net/v/20250408180205986\n",
      "[단독] \"돈 잘 버는 알짜부터\"…SK '몸값 5조' 실트론 매각한다\n",
      "https://v.daum.net/v/20250408175343664\n",
      "美·中 관세 폭탄 돌리기…‘새우등’ 한국 경제 불안감 더 커졌다\n",
      "https://v.daum.net/v/20250408175111585\n",
      "나랏빚 1175조 '역대 최대'…추경 재원 바닥\n",
      "https://v.daum.net/v/20250408174344325\n",
      "메디젠휴먼케어, \"23andMe 파산..한국 유전체 산업의 위기 아닌 기회\"\n",
      "https://v.daum.net/v/20250408173713085\n",
      "칩 확보서 데이터센터까지···전 산업에 'AI 고속도로' 깔아야\n",
      "https://v.daum.net/v/20250408173626057\n",
      "77년 묵은 정부조직, 데이터 중심 대수술···'AI 부총리' 도입을\n",
      "https://v.daum.net/v/20250408172845794\n",
      "[이슈ON] 마은혁 받고 '윤 절친' 이완규 투입...한덕수는 왜?\n",
      "====> https://news.daum.net/society 사회 뉴스 <====\n",
      "https://v.daum.net/v/20250408181101293\n",
      "계엄 문건, ‘세월호 7시간’처럼 봉인되나…열쇠는 피의자 한덕수 대행 손에\n",
      "https://v.daum.net/v/20250408181007271\n",
      "법조계 “한덕수의 재판관 지명 월권”…헌법소원·효력정지 가처분 거론\n",
      "https://v.daum.net/v/20250408180753177\n",
      "\"봄, 보이지 않아도 보여요\" 시각장애인과 함께한 '봄꽃 축제'\n",
      "https://v.daum.net/v/20250408180435068\n",
      "\"시민의 승리, 민주주의 수호, 국가 정상화\"\n",
      "https://v.daum.net/v/20250408180020921\n",
      "강동구, 고덕비즈밸리 개장 앞두고 교통·안전 현안 대비 촉각\n",
      "https://v.daum.net/v/20250408175907845\n",
      "신문 인쇄 패러다임 바꾼다…한경 부평 윤전공장 Q&A [영상]\n",
      "https://v.daum.net/v/20250408175815817\n",
      "서울 첫 이케아, 오픈 전에 미리 가보니…초대형 고흐 그림도\n",
      "https://v.daum.net/v/20250408175110584\n",
      "노인 간병, 이젠 AI가 효자 노릇할 것\n",
      "https://v.daum.net/v/20250408174205281\n",
      "\"법무부는 이주노동자에 대한 인간사냥 중단하라\"\n"
     ]
    }
   ],
   "source": [
    "print_news(\"경제\")\n",
    "print_news(\"사회\")"
   ]
  },
  {
   "cell_type": "code",
   "execution_count": 96,
   "id": "51fffe15",
   "metadata": {},
   "outputs": [
    {
     "name": "stdout",
     "output_type": "stream",
     "text": [
      "====> https://news.daum.net/people 인물 뉴스 <====\n",
      "https://v.daum.net/v/20250408175217633\n",
      "\"모든 보도는 본질적으로 탐사보도, 주변에 관심 가져야\"\n",
      "https://v.daum.net/v/20250408175038567\n",
      "기자·가수 겸업… 펜과 마이크로 방글라데시 삶 그리다\n",
      "https://v.daum.net/v/20250408174559420\n",
      "전력·수도·통신 이상 감지→AI로 고독사 예방한다\n",
      "https://v.daum.net/v/20250408173634060\n",
      "\"제자에 패한 뒤 무관 전락···부모상 같은 고통이었죠\"\n",
      "https://v.daum.net/v/20250408162102294\n",
      "대장장이가 제 직업입니다, 저는 그게 자랑스럽습니다\n",
      "https://v.daum.net/v/20250408092113275\n",
      "소쿠리를 소꼬리로 잘못 알아듣고… 몸보신 얘기에 웃음만발[사랑합니다]\n",
      "https://v.daum.net/v/20250408080901962\n",
      "한국 발레 전성기 만든 최태지가 아직도 꾸는 꿈\n",
      "https://v.daum.net/v/20250408080028797\n",
      "[MZ순경]’가만히 안아줄 수 있는 경찰 되고파’...시 쓰는 순경\n",
      "https://v.daum.net/v/20250407200810079\n",
      "제69회 신문의 날 기념대회… \"신문 역할·책임 막중\"\n",
      "https://v.daum.net/v/20250408043126944\n",
      "[가만한 당신] 냉전 체스 판의 '폰'이기를 거부한 체스 챔프\n",
      "https://v.daum.net/v/20250405050216058\n",
      "[단독] 언더우드의 110년 전 편지… “한국인은 고등 교육 받을 준비 돼 있다”\n",
      "https://v.daum.net/v/20250403060005274\n",
      "③목숨 건 ‘뿌리 찾기’···벽 앞에 울다[생사고투]\n",
      "https://v.daum.net/v/20250402164120082\n",
      "종교를 초월한 인연…‘인천 봉사왕’ 故장성철씨 49재 거행\n",
      "https://v.daum.net/v/20250402095023046\n",
      "2차대전 때 독일·일본軍 암호 푼 英 여성 비밀 요원 별세\n",
      "https://v.daum.net/v/20250408162102294\n",
      "대장장이가 제 직업입니다, 저는 그게 자랑스럽습니다\n"
     ]
    }
   ],
   "source": [
    "#추가적으로 인물 뉴스도 출력해보기\n",
    "print_news(\"인물\")"
   ]
  }
 ],
 "metadata": {
  "kernelspec": {
   "display_name": "base",
   "language": "python",
   "name": "python3"
  },
  "language_info": {
   "codemirror_mode": {
    "name": "ipython",
    "version": 3
   },
   "file_extension": ".py",
   "mimetype": "text/x-python",
   "name": "python",
   "nbconvert_exporter": "python",
   "pygments_lexer": "ipython3",
   "version": "3.12.7"
  }
 },
 "nbformat": 4,
 "nbformat_minor": 5
}
