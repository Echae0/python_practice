{
 "cells": [
  {
   "cell_type": "markdown",
   "id": "91f0199c",
   "metadata": {},
   "source": [
    "#### 1. Daum 뉴스기사 제목 스크래핑 하기"
   ]
  },
  {
   "cell_type": "markdown",
   "id": "2801e699",
   "metadata": {},
   "source": [
    "질문: 아래의 url에서 뉴스기사의 링크와 제목을 출력하세요.\n",
    "\n",
    "    url = 'https://news.daum.net/economy'"
   ]
  },
  {
   "cell_type": "code",
   "execution_count": 2,
   "id": "afcd192a-e477-4982-bc13-2a10eabd6f69",
   "metadata": {},
   "outputs": [],
   "source": [
    "# requests, bs4, BeautifulSoup 클래스 import\n",
    "import requests\n",
    "import bs4\n",
    "from bs4 import BeautifulSoup"
   ]
  },
  {
   "cell_type": "code",
   "execution_count": null,
   "id": "b7648202",
   "metadata": {},
   "outputs": [
    {
     "name": "stdout",
     "output_type": "stream",
     "text": [
      "https://news.daum.net/economy\n",
      "<Response [200]>\n",
      "<class 'requests.models.Response'>\n",
      "200 True\n",
      "9\n",
      "<class 'bs4.element.ResultSet'>\n",
      "https://v.daum.net/v/20250408174344325\n",
      "메디젠휴먼케어, \"23andMe 파산..한국 유전체 산업의 위기 아닌 기회\"\n",
      "https://v.daum.net/v/20250408174234298\n",
      "돈 쓸곳 많은데···나라살림 적자 또 100조 넘어\n",
      "https://v.daum.net/v/20250408173713085\n",
      "칩 확보서 데이터센터까지···전 산업에 'AI 고속도로' 깔아야\n",
      "https://v.daum.net/v/20250408173626057\n",
      "77년 묵은 정부조직, 데이터 중심 대수술···'AI 부총리' 도입을\n",
      "https://v.daum.net/v/20250408172845794\n",
      "[이슈ON] 마은혁 받고 '윤 절친' 이완규 투입...한덕수는 왜?\n",
      "https://v.daum.net/v/20250408161553109\n",
      "트럼프발 주가폭락에 동아 \"경제적 핵전쟁\" 조선 \"금융위기 후 최악\"\n",
      "https://v.daum.net/v/20250408160526681\n",
      "공황과 격변의 판도라 박스가 열리다\n",
      "https://v.daum.net/v/20250408154329660\n",
      "해외서 발 뺀 이중항체, 韓 기업들이 이끈다\n",
      "https://v.daum.net/v/20250408153003030\n",
      "탄핵 끝났는데 韓경제 ‘봄’은 언제 오나…박근혜 때와 다른 이유\n"
     ]
    }
   ],
   "source": [
    "# 다음 뉴스 경제 부문\n",
    "url = 'https://news.daum.net/economy'\n",
    "print(url)\n",
    "\n",
    "#요청 헤더 설정 : 브라우저 정보\n",
    "req_header = {\n",
    "    'user-agent': 'Mozilla/5.0 (Windows NT 10.0; Win64; x64) AppleWebKit/537.36 (KHTML, like Gecko) Chrome/135.0.0.0 Safari/537.36'\n",
    "}\n",
    "\n",
    "# requests의 get() 함수 호출\n",
    "res = requests.get(url, headers= req_header)\n",
    "res.encoding = 'utf-8' #인코딩 설정\n",
    "print(res)\n",
    "print(type(res))\n",
    "print(res.status_code, res.ok)\n",
    "\n",
    "# 응답(response)이 OK 이면\n",
    "if res.ok:\n",
    "    # 응답 (response)에서 text 추출 - 마우스 우클릭 source 보기\n",
    "    html = res.text\n",
    "    \n",
    "    # BeautifulSoup 객체 생성  \n",
    "    soup = BeautifulSoup(html,'html.parser')\n",
    "    \n",
    "    print(len(soup.select('ul.list_newsheadline2 li')))\n",
    "    li_tag_list = soup.select(\"ul.list_newsheadline2 li\")\n",
    "    print(type(li_tag_list))\n",
    "    \n",
    "    for li_tag in soup.select('ul.list_newsheadline2 li'):\n",
    "        a_tag = li_tag.find('a')\n",
    "        link = a_tag['href']\n",
    "        print(link)\n",
    "        strong_tag = li_tag.select_one('div.cont_thumb strong.tit_txt')\n",
    "        title = strong_tag.text\n",
    "        print(title)\n",
    "        \n",
    "else:\n",
    "    # 응답(response)이 Error 이면 status code 출력  \n",
    "    print(f'에러 코드 = {res.status_code}')     "
   ]
  }
 ],
 "metadata": {
  "kernelspec": {
   "display_name": "base",
   "language": "python",
   "name": "python3"
  },
  "language_info": {
   "codemirror_mode": {
    "name": "ipython",
    "version": 3
   },
   "file_extension": ".py",
   "mimetype": "text/x-python",
   "name": "python",
   "nbconvert_exporter": "python",
   "pygments_lexer": "ipython3",
   "version": "3.12.7"
  }
 },
 "nbformat": 4,
 "nbformat_minor": 5
}
