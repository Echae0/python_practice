{
 "cells": [
  {
   "cell_type": "markdown",
   "id": "91f0199c",
   "metadata": {},
   "source": [
    "#### 1. Daum 뉴스기사 제목 스크래핑 하기"
   ]
  },
  {
   "cell_type": "markdown",
   "id": "2801e699",
   "metadata": {},
   "source": [
    "1-1 질문: 아래의 url에서 뉴스기사의 링크와 제목을 출력하세요.\n",
    "\n",
    "    url = 'https://news.daum.net/economy'"
   ]
  },
  {
   "cell_type": "code",
   "execution_count": 2,
   "id": "afcd192a-e477-4982-bc13-2a10eabd6f69",
   "metadata": {},
   "outputs": [],
   "source": [
    "# requests, bs4, BeautifulSoup 클래스 import\n",
    "import requests\n",
    "import bs4\n",
    "from bs4 import BeautifulSoup"
   ]
  },
  {
   "cell_type": "code",
   "execution_count": null,
   "id": "b7648202",
   "metadata": {},
   "outputs": [
    {
     "name": "stdout",
     "output_type": "stream",
     "text": [
      "https://news.daum.net/economy\n",
      "<Response [200]>\n",
      "<class 'requests.models.Response'>\n",
      "200 True\n",
      "9\n",
      "<class 'bs4.element.ResultSet'>\n",
      "https://v.daum.net/v/20250408174344325\n",
      "메디젠휴먼케어, \"23andMe 파산..한국 유전체 산업의 위기 아닌 기회\"\n",
      "https://v.daum.net/v/20250408174234298\n",
      "돈 쓸곳 많은데···나라살림 적자 또 100조 넘어\n",
      "https://v.daum.net/v/20250408173713085\n",
      "칩 확보서 데이터센터까지···전 산업에 'AI 고속도로' 깔아야\n",
      "https://v.daum.net/v/20250408173626057\n",
      "77년 묵은 정부조직, 데이터 중심 대수술···'AI 부총리' 도입을\n",
      "https://v.daum.net/v/20250408172845794\n",
      "[이슈ON] 마은혁 받고 '윤 절친' 이완규 투입...한덕수는 왜?\n",
      "https://v.daum.net/v/20250408161553109\n",
      "트럼프발 주가폭락에 동아 \"경제적 핵전쟁\" 조선 \"금융위기 후 최악\"\n",
      "https://v.daum.net/v/20250408160526681\n",
      "공황과 격변의 판도라 박스가 열리다\n",
      "https://v.daum.net/v/20250408154329660\n",
      "해외서 발 뺀 이중항체, 韓 기업들이 이끈다\n",
      "https://v.daum.net/v/20250408153003030\n",
      "탄핵 끝났는데 韓경제 ‘봄’은 언제 오나…박근혜 때와 다른 이유\n"
     ]
    }
   ],
   "source": [
    "# 다음 뉴스 경제 부문\n",
    "url = 'https://news.daum.net/economy'\n",
    "print(url)\n",
    "\n",
    "#요청 헤더 설정 : 브라우저 정보\n",
    "req_header = {\n",
    "    'user-agent': 'Mozilla/5.0 (Windows NT 10.0; Win64; x64) AppleWebKit/537.36 (KHTML, like Gecko) Chrome/135.0.0.0 Safari/537.36'\n",
    "}\n",
    "\n",
    "# requests의 get() 함수 호출\n",
    "res = requests.get(url, headers= req_header)\n",
    "res.encoding = 'utf-8' #인코딩 설정\n",
    "print(res)\n",
    "print(type(res))\n",
    "print(res.status_code, res.ok)\n",
    "\n",
    "# 응답(response)이 OK 이면\n",
    "if res.ok:\n",
    "    # 응답 (response)에서 text 추출 - 마우스 우클릭 source 보기\n",
    "    html = res.text\n",
    "    \n",
    "    # BeautifulSoup 객체 생성  \n",
    "    soup = BeautifulSoup(html,'html.parser')\n",
    "    \n",
    "    #CSS 선택자\n",
    "    print(len(soup.select('ul.list_newsheadline2 li')))\n",
    "    li_tag_list = soup.select(\"ul.list_newsheadline2 li\")\n",
    "    print(type(li_tag_list))\n",
    "    \n",
    "    # li 태그 리스트 순회하기기\n",
    "    for li_tag in soup.select('ul.list_newsheadline2 li'):\n",
    "        a_tag = li_tag.find('a')\n",
    "        link = a_tag['href'] #링크는 a tag에 존재\n",
    "        print(link)\n",
    "        strong_tag = li_tag.select_one('div.cont_thumb strong.tit_txt')\n",
    "        title = strong_tag.text #title은 strong tag에 존재재\n",
    "        print(title)\n",
    "        \n",
    "else:\n",
    "    # 응답(response)이 Error 이면 status code 출력  \n",
    "    print(f'에러 코드 = {res.status_code}')     "
   ]
  },
  {
   "cell_type": "markdown",
   "id": "c783d1a6",
   "metadata": {},
   "source": [
    "1-2 질문:  여러개의 section 중 하나를 선택해서 url에서 뉴스기사의 링크와 제목을 출력하는 코드를 함수로 작성하기\n",
    "    \n",
    "    # 경제 뉴스 URL\n",
    "    url = 'https://news.daum.net/economy'\n",
    "    # 사회 뉴스 URL\n",
    "    url = 'https://news.daum.net/society'\n"
   ]
  },
  {
   "cell_type": "code",
   "execution_count": 16,
   "id": "533feb8b",
   "metadata": {},
   "outputs": [],
   "source": [
    "import requests\n",
    "from bs4 import BeautifulSoup\n",
    "\n",
    "section_dict = {\n",
    "    \"기후/환경\": \"climate\",\n",
    "    \"사회\": \"society\",\n",
    "    \"경제\": \"economy\",\n",
    "    \"정치\": \"politics\",\n",
    "    \"국제\": \"world\",\n",
    "    \"문화\": \"culture\",\n",
    "    \"생활\": \"life\",\n",
    "    \"IT/과학\": \"tech\",\n",
    "    \"인물\": \"people\",\n",
    "}\n",
    "\n",
    "# 함수 선언\n",
    "def print_news(sid):\n",
    "    section = section_dict.get(sid)\n",
    "    if section is None:\n",
    "        print('요청하신 뉴스 주소가 없습니다.')\n",
    "    \n",
    "    else:\n",
    "        \n",
    "        url = f\"https://news.daum.net/{section}\"\n",
    "        print(f\"====> {url} {sid} 뉴스 <====\")\n",
    "        \n",
    "        #요청 헤더 설정 : 브라우저 정보\n",
    "        req_header = {\n",
    "        'user-agent': 'Mozilla/5.0 (Windows NT 10.0; Win64; x64) AppleWebKit/537.36 (KHTML, like Gecko) Chrome/135.0.0.0 Safari/537.36'\n",
    "        }\n",
    "\n",
    "        # requests의 get() 함수 호출\n",
    "        res = requests.get(url, headers= req_header)\n",
    "        res.encoding = 'utf-8' #인코딩 설정\n",
    "        \n",
    "        # 응답(response)이 OK 이면\n",
    "        if res.ok:\n",
    "            # 응답 (response)에서 text 추출 - 마우스 우클릭 source 보기\n",
    "            html = res.text\n",
    "            \n",
    "            # BeautifulSoup 객체 생성  \n",
    "            soup = BeautifulSoup(html,'html.parser')\n",
    "            \n",
    "            #CSS 선택자\n",
    "            li_tag_list = soup.select(\"ul.list_newsheadline2 li\")\n",
    "        \n",
    "            # li 태그 리스트 순회하기기\n",
    "            for li_tag in soup.select('ul.list_newsheadline2 li'):\n",
    "                a_tag = li_tag.find('a')\n",
    "                link = a_tag['href'] #링크는 a tag에 존재\n",
    "                print(link)\n",
    "                strong_tag = li_tag.select_one('div.cont_thumb strong.tit_txt')\n",
    "                title = strong_tag.text #title은 strong tag에 존재재\n",
    "                print(title)\n",
    "        else:\n",
    "            # 응답(response)이 Error 이면 status code 출력  \n",
    "            print(f'에러 코드 = {res.status_code}')     "
   ]
  },
  {
   "cell_type": "code",
   "execution_count": 13,
   "id": "25ec1317",
   "metadata": {},
   "outputs": [
    {
     "name": "stdout",
     "output_type": "stream",
     "text": [
      "====> https://news.daum.net/economy 경제 뉴스 <====\n",
      "https://v.daum.net/v/20250409095612972\n",
      "회사는 주주만의 것? 상법 개정이 품은 위험\n",
      "https://v.daum.net/v/20250409095604965\n",
      "발의자가 설명하는 ‘상법 왜 바꿨나’\n",
      "https://v.daum.net/v/20250409095558958\n",
      "K밸류업 외치는 사이, 무너지는 한국 제조업\n",
      "https://v.daum.net/v/20250409095110733\n",
      "[친절한 경제] 초고령 사회 진입…'정년 연장'보다 필요한 근로 형태는?\n",
      "https://v.daum.net/v/20250409094730569\n",
      "3월 취업자 19.3만 늘었지만…청년·건설·제조업 '고용한파' 지속(종합)\n",
      "https://v.daum.net/v/20250409093301936\n",
      "투심 끊긴 CBD 오피스…\"이 값엔 못 팔아\" 잇단 매각 철회도\n",
      "https://v.daum.net/v/20250409091935326\n",
      "‘회복’이라는 착시.. “청년은 떠났고, 일터는 비어 있다”\n",
      "https://v.daum.net/v/20250409091646199\n",
      "[뉴스UP] 미국, 오늘부터 25% 상호관세...뭐가 어떻게 바뀌나?\n",
      "https://v.daum.net/v/20250409081220033\n",
      "[美 관세대응]수출바우처 1000억·긴급경영자금 2500억…남미로 수출다변화\n",
      "====> https://news.daum.net/society 사회 뉴스 <====\n",
      "https://v.daum.net/v/20250409095855095\n",
      "'동덕여대 시위'와 '서부지법 폭동'이 같다는 당신에게[동덕여대생이 직접 말한다]\n",
      "https://v.daum.net/v/20250409094519491\n",
      "‘이러다 우리만 유급?’ 의대 선배 복귀에 속타는 예과생들 [세상&]\n",
      "https://v.daum.net/v/20250409094432437\n",
      "청소년 자살, 외면할 수 없는 사회적 책임… ‘함께고워크’로 희망 전한다\n",
      "https://v.daum.net/v/20250409093438002\n",
      "‘마스크 대란’ 50억 원대 사기범…5년 만에 처벌\n",
      "https://v.daum.net/v/20250409091602173\n",
      "'평균 2.6선' 전북 22대 의원 1년…의욕적 활동 뒤엔 빛 바랜 '원팀 정신'\n",
      "https://v.daum.net/v/20250409091024928\n",
      "“피부색 달라도 우린 한국인”… 정체성 찾고, 자존감 올려요[아동권리옹호 Child First]\n",
      "https://v.daum.net/v/20250409090255592\n",
      "다시 생기 도는 헌재 인근…\"일상 회복\" 기대 물씬\n",
      "https://v.daum.net/v/20250409090128515\n",
      "동물병원 광고, 아무 제약 없이 허위·과대 난무\n",
      "https://v.daum.net/v/20250409090122507\n",
      "가볍고 빠른 ‘한국형 타우러스’ 천룡\n"
     ]
    }
   ],
   "source": [
    "print_news(\"경제\")\n",
    "print_news(\"사회\")"
   ]
  },
  {
   "cell_type": "code",
   "execution_count": 14,
   "id": "51fffe15",
   "metadata": {},
   "outputs": [
    {
     "name": "stdout",
     "output_type": "stream",
     "text": [
      "====> https://news.daum.net/people 인물 뉴스 <====\n",
      "https://v.daum.net/v/20250409090923890\n",
      "“딸 두면 비행기 탄다더라”… 여행준비가 즐겁고 더 화기애애[사랑합니다]\n",
      "https://v.daum.net/v/20250409060010711\n",
      "[무늬가 있는 삶] 읽다가 길을 발견하다…개그맨 작가 고명환 | 전원생활\n",
      "https://v.daum.net/v/20250409002427134\n",
      "\"성공? 하버드 아닌 한국 식료품점서 답 찾았다\" [안혜리의 인생]\n",
      "https://v.daum.net/v/20250408175217633\n",
      "\"모든 보도는 본질적으로 탐사보도, 주변에 관심 가져야\"\n",
      "https://v.daum.net/v/20250408175038567\n",
      "기자·가수 겸업… 펜과 마이크로 방글라데시 삶 그리다\n",
      "https://v.daum.net/v/20250408173634060\n",
      "\"제자에 패한 뒤 무관 전락···부모상 같은 고통이었죠\"\n",
      "https://v.daum.net/v/20250408162102294\n",
      "대장장이가 제 직업입니다, 저는 그게 자랑스럽습니다\n",
      "https://v.daum.net/v/20250408092113275\n",
      "소쿠리를 소꼬리로 잘못 알아듣고… 몸보신 얘기에 웃음만발[사랑합니다]\n",
      "https://v.daum.net/v/20250408080901962\n",
      "한국 발레 전성기 만든 최태지가 아직도 꾸는 꿈\n",
      "https://v.daum.net/v/20250408043126944\n",
      "[가만한 당신] 냉전 체스 판의 '폰'이기를 거부한 체스 챔프\n",
      "https://v.daum.net/v/20250405050216058\n",
      "[단독] 언더우드의 110년 전 편지… “한국인은 고등 교육 받을 준비 돼 있다”\n",
      "https://v.daum.net/v/20250403060005274\n",
      "③목숨 건 ‘뿌리 찾기’···벽 앞에 울다[생사고투]\n",
      "https://v.daum.net/v/20250402164120082\n",
      "종교를 초월한 인연…‘인천 봉사왕’ 故장성철씨 49재 거행\n",
      "https://v.daum.net/v/20250402095023046\n",
      "2차대전 때 독일·일본軍 암호 푼 英 여성 비밀 요원 별세\n",
      "https://v.daum.net/v/20250409090923890\n",
      "“딸 두면 비행기 탄다더라”… 여행준비가 즐겁고 더 화기애애[사랑합니다]\n"
     ]
    }
   ],
   "source": [
    "#추가적으로 인물 뉴스도 출력해보기\n",
    "print_news(\"인물\")"
   ]
  },
  {
   "cell_type": "code",
   "execution_count": null,
   "id": "11684a72",
   "metadata": {},
   "outputs": [
    {
     "name": "stdout",
     "output_type": "stream",
     "text": [
      "요청하신 뉴스 주소가 없습니다.\n"
     ]
    }
   ],
   "source": [
    "print_news(\"경제2\") #잘못된 input을 주었을 때"
   ]
  },
  {
   "cell_type": "markdown",
   "id": "d1dbeb1b",
   "metadata": {},
   "source": [
    "#### 2. Nate 뉴스기사 제목 스크래핑하기"
   ]
  },
  {
   "cell_type": "code",
   "execution_count": 19,
   "id": "19f9fd8d",
   "metadata": {},
   "outputs": [],
   "source": [
    "import requests\n",
    "from bs4 import BeautifulSoup\n",
    "\n",
    "section_dict = {\n",
    "    100: \"최신뉴스\",\n",
    "    200: \"정치\",\n",
    "    300: \"경제\",\n",
    "    400: \"사회\",\n",
    "    500: \"세계\",\n",
    "    600: \"IT/과학\"\n",
    "}\n",
    "\n",
    "\n",
    "def print_news(sid):\n",
    "    section = section_dict[sid]\n",
    "    if sid == 100:\n",
    "        url = f\"https://news.nate.com/recent?mid=n0{sid}\"\n",
    "        print(f\"====> {url} {section} 뉴스 <====\")\n",
    "        \n",
    "    else:    \n",
    "        url = f\"https://news.nate.com/section?mid=n0{sid}\"\n",
    "        print(f\"====> {url} {section} 뉴스 <====\")\n",
    "    \n",
    "    # 요청 헤더 설정 : 브라우저 정보\n",
    "    req_header = {\n",
    "        \"user-agent\": \"Mozilla/5.0 (Windows NT 10.0; Win64; x64) AppleWebKit/537.36 (KHTML, like Gecko) Chrome/104.0.0.0 Safari/537.36\"\n",
    "    }\n",
    "    \n",
    "    # requests의 get() 함수 호출\n",
    "    res = requests.get(url, headers= req_header)\n",
    "\n",
    "    # 응답(response)이 OK 이면\n",
    "    if res.ok:\n",
    "        # 응답에서 text 추출\n",
    "        html = res.text\n",
    "        \n",
    "        # BeautifulSoup 객체 생성  \n",
    "        soup = BeautifulSoup(html,'html.parser')\n",
    "        \n",
    "        # CSS 선택자\n",
    "        li_tag_list = soup.select('ul.mduList1 li')\n",
    "        \n",
    "        for li_tag in soup.select('ul.mduList1 li'):\n",
    "            a_tag = li_tag.find('a')\n",
    "            link = a_tag['href']\n",
    "            print(f'https:{link}')\n",
    "            title = a_tag.text.strip()\n",
    "            print(title)\n",
    "        \n",
    "    else:\n",
    "        # 응답(response)이 Error 이면 status code 출력  \n",
    "        print(f'에러 코드 = {res.status_code}')  \n",
    "    \n"
   ]
  },
  {
   "cell_type": "code",
   "execution_count": 20,
   "id": "1aa5dab4",
   "metadata": {},
   "outputs": [
    {
     "name": "stdout",
     "output_type": "stream",
     "text": [
      "====> https://news.nate.com/section?mid=n0200 정치 뉴스 <====\n",
      "https://news.nate.com/view/20250409n18671?mid=n0200\n",
      "계엄 직후 \"사인으로 돌아가겠다\"던 이완규, 이제는 '사퇴 거부'\n",
      "https://news.nate.com/view/20250409n16081?mid=n0200\n",
      "논란의 이완규 알고보니…노무현과 붙었던 바로 그 검사\n",
      "https://news.nate.com/view/20250409n14064?mid=n0200\n",
      "'헌법재판관 지명' 이완규, 野 사퇴 요구에 \"권한대행 결정 존중\"\n",
      "https://news.nate.com/view/20250409n13547?mid=n0200\n",
      "안가회동, 尹 장모 변호까지…韓  이완규 기습 지명에 학계 뜨거운 논란 [세...\n",
      "https://news.nate.com/view/20250409n14240?mid=n0200\n",
      "[속보]이완규 \"한덕수 '지명 결정' 존중···권한대행도 할 수 있어\"\n",
      "https://news.nate.com/view/20250409n13315?mid=n0200\n",
      "[속보] '헌재 재판관 지명' 이완규 \"권한대행 결정 존중할 따름\"\n",
      "https://news.nate.com/view/20250409n12684?mid=n0200\n",
      "이재명, 대표직 사퇴…\"국민과 함께하겠다\" 대선 출마 수순\n",
      "https://news.nate.com/view/20250409n11501?mid=n0200\n",
      "[속보] 이재명, 대표직 사퇴…\"새로운 일 시작\" 대선출마 수순\n",
      "https://news.nate.com/view/20250409n12142?mid=n0200\n",
      "이재명 \"새로운 일 시작\" 대표직 사퇴…이르면 내일 출마선언\n",
      "https://news.nate.com/view/20250409n10978?mid=n0200\n",
      "[속보] 이재명 \"오늘이 마지막\"…민주당 대표직 사퇴 선언\n",
      "https://news.nate.com/view/20250409n01044?mid=n0200\n",
      "[단독]이재명, '4년 중임제' 담은 공약 준비…\"대선이후 1, 2년내 단계...\n",
      "https://news.nate.com/view/20250409n16624?mid=n0200\n",
      "민주, '권한대행의 대통령몫 재판관 임명불가' 법사위 의결\n",
      "https://news.nate.com/view/20250409n15031?mid=n0200\n",
      "[속보]헌법재판관 임기연장법 법사위 의결…국힘 반발\n",
      "https://news.nate.com/view/20250409n02279?mid=n0200\n",
      "한덕수, 재판관 임명 강행땐 진보3·중도2·보수4…헌재 '지각변동'\n",
      "https://news.nate.com/view/20250408n36003?mid=n0200\n",
      "[단독] '안가 회동' 이완규, 진술 거부…휴대폰 교체 이유도 '침묵'\n",
      "https://news.nate.com/view/20250408n35829?mid=n0200\n",
      "'줄탄핵 정국' 헌재 기능 마비 땐 행정부도 올스톱 우려 [韓, 헌법재판관 ...\n",
      "https://news.nate.com/view/20250409n17585?mid=n0200\n",
      "우의장, 대선·개헌 동시투표 제안 철회…\"대선 후 논의하자\"\n",
      "https://news.nate.com/view/20250408n21033?mid=n0200\n",
      "동력 잃는 우원식표 개헌론…15일까지 국민투표법 처리 불투명\n",
      "https://news.nate.com/view/20250408n04184?mid=n0200\n",
      "[단독]\"국회의장, 당 지도부와 개헌 발표 교감 없었다\" 민주 현역 반발 잇...\n",
      "https://news.nate.com/view/20250407n32169?mid=n0200\n",
      "민주 \"내란 척결\" 국힘 \"의회 견제\"…'권력구조 개헌' 딴생각 [개헌론 점...\n",
      "https://news.nate.com/view/20250407n31537?mid=n0200\n",
      "대선·개헌 동시투표, 하루만에 난관 봉착…시기·범위 동상이몽\n",
      "https://news.nate.com/view/20250407n32085?mid=n0200\n",
      "대선주자들 \"신속한 개헌 찬성\"…내용·시기엔 온도차 [개헌론 점화]\n",
      "https://news.nate.com/view/20250409n17680?mid=n0200\n",
      "[속보]국힘 경선 '명태균 방지조항' 도입…여론조사 사전신고 의무\n",
      "https://news.nate.com/view/20250409n18435?mid=n0200\n",
      "권성동 \"이번 대선은 이재명 심판 선거 돼야…尹은 심판 받았다\"(종합)\n",
      "https://news.nate.com/view/20250409n17641?mid=n0200\n",
      "[속보] 국민의힘 \"14~15일 경선 후보 등록…16일 1차 경선진출자 발표...\n",
      "https://news.nate.com/view/20250409n01709?mid=n0200\n",
      "어대명? 반전 변수는 있다…국힘 기대하는 시나리오 셋\n",
      "https://news.nate.com/view/20250408n14836?mid=n0200\n",
      "국힘 \"한대행, 마은혁 임명 유감…이완규·함상훈 지명은 용단\"(종합)\n",
      "https://news.nate.com/view/20250408n07505?mid=n0200\n",
      "[현장영상+] 권성동 \"한국 경제 성장률 전망, 벼랑 끝 몰려\"\n",
      "https://news.nate.com/view/20250409n18386?mid=n0200\n",
      "민주 중앙선관위원장에 4선 박범계…특별당규위원장엔 이춘석\n",
      "https://news.nate.com/view/20250408n37822?mid=n0200\n",
      "김경수·김동연 비공개 회동…이재명, 9일 대표직 사퇴\n",
      "https://news.nate.com/view/20250408n13568?mid=n0200\n",
      "[단독] 민주당 \"이완규·함상훈 지명, 효력정지 가처분 신청 검토\"\n",
      "https://news.nate.com/view/20250408n12144?mid=n0200\n",
      "민주 \"헌법재판관 지명 韓대행, 정신 나가…스스로 탄핵 유도\"\n",
      "https://news.nate.com/view/20250408n12927?mid=n0200\n",
      "민주 \"韓대행, 헌법재판관 지명? 대통령 아냐…명백한 위헌\"\n",
      "https://news.nate.com/view/20250408n01321?mid=n0200\n",
      "개헌 찬성하면 '수박'으로 찍힌다?…민주당 의원들에 쏟아진 '개헌 문자폭탄'\n",
      "https://news.nate.com/view/20250409n18308?mid=n0200\n",
      "노태악 중앙선관위원장 대국민담화 \"대선 투개표 절차 더욱 투명하게 공개\"\n",
      "https://news.nate.com/view/20250409n18271?mid=n0200\n",
      "노태악 선관위장 \"선거 철저히 준비…결과에 승복해달라\"\n",
      "https://news.nate.com/view/20250409n18096?mid=n0200\n",
      "중앙선관위원장, 공정 선거 당부…\"투개표 절차 더욱 투명히 공개\"\n",
      "https://news.nate.com/view/20250409n14644?mid=n0200\n",
      "유정복, 대선 출마 공식 선언…\"개헌·개혁·민생 대통령 되겠다\"\n",
      "https://news.nate.com/view/20250409n18283?mid=n0200\n",
      "유정복 \"민생대통령 되겠다\" 대선 출사표(종합)\n",
      "https://news.nate.com/view/20250409n17765?mid=n0200\n",
      "유정복, 대선 출마 공식 선언…\"개헌·개혁·민생 대통령 되겠다\"\n",
      "https://news.nate.com/view/20250409n17758?mid=n0200\n",
      "유정복 인천시장, 대선 출사표…\"찢는 정치꾼 시대 끝낼 것\"\n",
      "https://news.nate.com/view/20250408n19460?mid=n0200\n",
      "오세훈 \"'1대1' 양자대결 지지율 제일 높아…출마 선언은 아직\"\n",
      "https://news.nate.com/view/20250407n33121?mid=n0200\n",
      "오세훈 \"대선 출마 여부 깊은 고민…빠른 시일 내 결정하겠다\"\n",
      "https://news.nate.com/view/20250407n33125?mid=n0200\n",
      "오세훈 \"尹 파면 국민께 죄송…빠른 시일내 출마 결정할 것\"\n",
      "https://news.nate.com/view/20250407n11502?mid=n0200\n",
      "오세훈 측 \"국힘 선관위 일정에 맞춰 대선 경선 참여 여부 검토 중\"\n",
      "https://news.nate.com/view/20250318n03105?mid=n0200\n",
      "오세훈 \"尹 선고 지연 이상징후…기각 2명·각하 1명 예상\"\n",
      "https://news.nate.com/view/20250408n35585?mid=n0200\n",
      "차기 대통령 집무실은 용산? 청와대? 세종? 광화문?\n",
      "https://news.nate.com/view/20250408n32771?mid=n0200\n",
      "'파면' 尹 쓰던 용산, 계속 쓰기엔…새 정부 대통령실은 청와대? 세종?\n",
      "https://news.nate.com/view/20250408n15558?mid=n0200\n",
      "차기 대통령실은 다시 청와대?…\"윤석열 흔적 가장 없는 곳\"\n",
      "https://news.nate.com/view/20250408n03625?mid=n0200\n",
      "용산 떠나 세종으로 가나?…차기 대통령 집무실은 어디로\n",
      "https://news.nate.com/view/20250408n08909?mid=n0200\n",
      "김민석 \"용산에 계속 대통령실? 대부분 국민 동의 안할 것\"\n",
      "https://news.nate.com/view/20250409n16139?mid=n0200\n",
      "김문수 \"깨끗한 내가 이재명 이겨…외연확장? 살아온 길 봐달라\"(종합)\n",
      "https://news.nate.com/view/20250409n10695?mid=n0200\n",
      "김문수 \"봉천동 아파트가 재산 전부…깨끗한 내가 李 상대 제격\"\n",
      "https://news.nate.com/view/20250409n10609?mid=n0200\n",
      "\"내가 이재명 이긴다\"…범보수 1위 김문수, 대선 출마 선언\n",
      "https://news.nate.com/view/20250409n10640?mid=n0200\n",
      "김문수, 대선 출마선언…\"12개 죄목 이재명 이길 깨끗한 후보는 나\"\n",
      "https://news.nate.com/view/20250409n10827?mid=n0200\n",
      "김문수 대선 출마 선언 \"검찰 불려갈 일 없는 내가 이재명 이긴다\"\n",
      "https://news.nate.com/view/20250408n25648?mid=n0200\n",
      "'보수 선두' 김문수 장관 대선 출마…\"국민께서 원한다\"\n",
      "https://news.nate.com/view/20250408n15832?mid=n0200\n",
      "김문수 \"국가적 어려움 해결에 책임감 느껴 출마 결심\"\n",
      "https://news.nate.com/view/20250409n14150?mid=n0200\n",
      "마은혁 헌법재판관 취임…\"우려 시선 알아, 헌법 원리만 기준 삼겠다\"\n",
      "https://news.nate.com/view/20250409n07573?mid=n0200\n",
      "마은혁 신임 헌법재판관 \"재판관 임무 완수 최선\"…헌재 첫 출근\n",
      "https://news.nate.com/view/20250409n08993?mid=n0200\n",
      "'후보자' 신분 벗은 마은혁, \"한덕수의 '대통령 몫' 지명 어떻게 보나\" ...\n",
      "https://news.nate.com/view/20250409n06805?mid=n0200\n",
      "[속보] 마은혁 \"헌법재판관으로서 임무완수 최선 다하겠다\"\n",
      "https://news.nate.com/view/20250408n23664?mid=n0200\n",
      "권한대행 초유의 '대통령몫 재판관 지명'…국회는 못 막는다?\n",
      "https://news.nate.com/view/20250409n13681?mid=n0200\n",
      "이철우 경북도지사 박정희 생가 방문…대선 출마 공식화\n",
      "https://news.nate.com/view/20250409n11693?mid=n0200\n",
      "대선주자 이철우 경북지사, 박정희 생가서 레이스 시작\n",
      "https://news.nate.com/view/20250409n02918?mid=n0200\n",
      "이철우 경북도지사, 오늘 대선 출마 공식화\n",
      "https://news.nate.com/view/20250409n06907?mid=n0200\n",
      "홍준표 \"모병제 대폭 확대…해병대·특전사 통합해야\"\n",
      "https://news.nate.com/view/20250408n21711?mid=n0200\n",
      "홍준표 \"용산은 주술과 불통의 상징, 대통령 되면 청와대로\"\n",
      "https://news.nate.com/view/20250408n27505?mid=n0200\n",
      "홍준표 \"나는 본선 보고 뛴다…대선은 洪-李 양자구도\"\n",
      "https://news.nate.com/view/20250408n25695?mid=n0200\n",
      "홍준표 \"김문수는 탈레반, 나는 유연…대통령 되면 청와대로\"(종합)\n",
      "https://news.nate.com/view/20250408n21711?mid=n0200\n",
      "홍준표 \"용산은 주술과 불통의 상징, 대통령 되면 청와대로\"\n",
      "https://news.nate.com/view/20250408n10696?mid=n0200\n",
      "'대선 출마' 홍준표 \"사형수 생명권 보호 가치 없어…반드시 사형 집행할 것...\n",
      "https://news.nate.com/view/20250405n11476?mid=n0200\n",
      "북, 하루 뒤 '윤석열 파면' 짧게 보도…박근혜 때완 다른 이유는\n",
      "https://news.nate.com/view/20250405n01865?mid=n0200\n",
      "김정은, 尹파면된 날 특수부대 훈련시찰…\"싸움준비완성이 애국\"\n",
      "https://news.nate.com/view/20250404n35792?mid=n0200\n",
      "북, 尹 파면 '침묵'…朴 때는 2시간여 만에 신속보도[尹 파면]\n",
      "https://news.nate.com/view/20250328n13935?mid=n0200\n",
      "\"동의 없이 현지인 촬영 불가\"…北 여행 새로운 가이드라인 나왔다\n",
      "https://news.nate.com/view/20250328n01661?mid=n0200\n",
      "[단독]北, 유엔사 핫라인도 무응답…표류 北주민 송환 장기화\n"
     ]
    }
   ],
   "source": [
    "print_news(200)"
   ]
  },
  {
   "cell_type": "code",
   "execution_count": 21,
   "id": "c2ba8803",
   "metadata": {},
   "outputs": [
    {
     "name": "stdout",
     "output_type": "stream",
     "text": [
      "====> https://news.nate.com/section?mid=n0500 세계 뉴스 <====\n",
      "https://news.nate.com/view/20250409n13198?mid=n0500\n",
      "도미니카공화국 클럽 붕괴로 60명 이상 사망…한국인 피해는 없어\n",
      "https://news.nate.com/view/20250409n08208?mid=n0500\n",
      "도미니카공화국 클럽 지붕붕괴 참사···\"최소 66명 사망\"\n",
      "https://news.nate.com/view/20250409n04094?mid=n0500\n",
      "도미니카공화국서 나이트클럽 지붕붕괴 참사…\"최소 58명 사망\"(종합2보)\n",
      "https://news.nate.com/view/20250409n12595?mid=n0500\n",
      "\"관세는 불법\"…美 상공회의소 등, 트럼프에 소송전 검토\n",
      "https://news.nate.com/view/20250409n01169?mid=n0500\n",
      "백악관 \"中 보복은 실수…9일 0시1분부터 104% 관세 부과\"(종합)\n",
      "https://news.nate.com/view/20250408n17797?mid=n0500\n",
      "트럼프 엄포에 중국 맞불…'관세 쓰나미' 폭풍전야 전세계 패닉\n",
      "https://news.nate.com/view/20250408n11345?mid=n0500\n",
      "中, 트럼프 50% 추가관세 위협에 \"잘못에 잘못 더해…단호히 반격\"\n",
      "https://news.nate.com/view/20250408n17257?mid=n0500\n",
      "'치킨게임' 미중, 무역전면전 확전하나…'관세폭탄 공방' 가속\n",
      "https://news.nate.com/view/20250408n04092?mid=n0500\n",
      "\"빌어먹을 계산법\"…'트럼프 지지' 억만장자들, 관세 맹비난\n",
      "https://news.nate.com/view/20250408n24356?mid=n0500\n",
      "머스크, 트럼프 상호관세 만류했었다…'헤어질 결심' 주목\n",
      "https://news.nate.com/view/20250408n25079?mid=n0500\n",
      "화성 간다더니 \"달 먼저\"…트럼프·머스크, 결별의 또 다른 이유\n",
      "https://news.nate.com/view/20250328n12505?mid=n0500\n",
      "머스크 \"5월말까지 1조달러 절감…성공 못하면 미국 배 침몰\"\n",
      "https://news.nate.com/view/20250321n27234?mid=n0500\n",
      "\"이해충돌 종합세트\"…머스크, 美국방부 '중국 전쟁계획' 기밀 보고까지?\n",
      "https://news.nate.com/view/20250321n21938?mid=n0500\n",
      "美법원, 머스크 DOGE에 사회보장국 자료 접근 임시 금지\n",
      "https://news.nate.com/view/20250409n07260?mid=n0500\n",
      "(영상) \"총 잡을 줄도 모르는 그녀의 설정샷\"…美 국토안보부 장관 또 논란...\n",
      "https://news.nate.com/view/20250407n30467?mid=n0500\n",
      "美 홍역 확산…백신 불신론자 보건장관도 \"접종하라\"\n",
      "https://news.nate.com/view/20250407n02434?mid=n0500\n",
      "美 홍역 확산에 아동 또 사망…보건장관, 입장 바꿔 \"백신 필요\"(종합)\n",
      "https://news.nate.com/view/20250407n03638?mid=n0500\n",
      "미국서 또 홍역으로 아동 사망…'백신회의론자' 복지부 장관 \"백신 접종 필수...\n",
      "https://news.nate.com/view/20250407n02746?mid=n0500\n",
      "\"살려주세요! 삼촌이…\" 소녀 4명에 흉기 휘두른 남성 총격 제압한 美경찰\n",
      "https://news.nate.com/view/20250403n05782?mid=n0500\n",
      "\"빨간불 뜨면 해고, 마치 '오징어 게임' 같았다\"…만우절 농담 같았던 '마...\n",
      "https://news.nate.com/view/20250409n00489?mid=n0500\n",
      "일본 오키나와현 요나구니섬 북북동쪽 바다 규모 5.6 지진\n",
      "https://news.nate.com/view/20250408n37946?mid=n0500\n",
      "트럼프에 납작 엎드린 일본…25분간 전화 읍소해 '협상 기회'\n",
      "https://news.nate.com/view/20250408n01128?mid=n0500\n",
      "'고액 헌금 논란' 日 통일교, 해산명령 불복해 고법 항고\n",
      "https://news.nate.com/view/20250407n13472?mid=n0500\n",
      "\"저 맞습니다\" 불법 도박한 연예인들 '우르르' 붙잡혀…신상 공개되자 日 발...\n",
      "https://news.nate.com/view/20250407n02270?mid=n0500\n",
      "\"일본 가지말까\"···안 그래도 비싸진 '온천', 이젠 당일치기로 못 간다\n",
      "https://news.nate.com/view/20250407n01225?mid=n0500\n",
      "일본 \"문재인 정부 사례 공부하자\" 최저임금 안착에 안간힘 [클로즈업 재팬]\n",
      "https://news.nate.com/view/20250409n13094?mid=n0500\n",
      "\"성형 후 수입 3배 늘었다\"…이란서 열풍인 코 수술, 이유는?\n",
      "https://news.nate.com/view/20250408n03714?mid=n0500\n",
      "\"숙소 창문까지 꼭 잠가라\"…'지상 낙원' 휴양지의 몰락\n",
      "https://news.nate.com/view/20250407n19478?mid=n0500\n",
      "\"미얀마가 끝 아니다\"…中 인근 대지진 가능성\n",
      "https://news.nate.com/view/20250407n03570?mid=n0500\n",
      "미군의 예멘 수도 사나 폭격으로 사망4명 부상 23명으로 늘어 (종합)\n",
      "https://news.nate.com/view/20250407n02417?mid=n0500\n",
      "국민 고통받는데 초호화 남극 여행 다녀온 이 사람···결국[글로벌 왓]\n",
      "https://news.nate.com/view/20250408n02779?mid=n0500\n",
      "'스트롱맨' 트럼프, 본인 생일에 군사 퍼레이드 추진…\"김정은 떠올라\"\n",
      "https://news.nate.com/view/20250408n09516?mid=n0500\n",
      "트럼프, 재차 드러낸 '가자 소유 야욕'…\"매우 중요한 부동산\"\n",
      "https://news.nate.com/view/20250407n18094?mid=n0500\n",
      "\"美대통령은 3선 못해\"…트럼프 충성파 법무도 연임설에 '그건 좀'\n",
      "https://news.nate.com/view/20250407n18451?mid=n0500\n",
      "2m 철벽에 숨은 트럼프…그가 \"굿샷\" 외칠때, 시민들 관세 비명\n",
      "https://news.nate.com/view/20250407n09469?mid=n0500\n",
      "전 세계는 패닉, 트럼프는 돈벌이 분주 \"어느 때보다 부자될 수 있어\"\n",
      "https://news.nate.com/view/20250407n01032?mid=n0500\n",
      "\"이러다 내년 선거 완패\"…트럼프 상호관세에 공화당 우려 고조\n",
      "https://news.nate.com/view/20250409n03500?mid=n0500\n",
      "이제 북한군은 식상? 젤렌스키 \"중국인 2명 생포\" (영상) [포착]\n",
      "https://news.nate.com/view/20250407n03595?mid=n0500\n",
      "젤렌스키 \"러시아, 계속 우크라 공격하고 싶어 해\"…미국에 압박·제재 호소\n",
      "https://news.nate.com/view/20250331n00421?mid=n0500\n",
      "우크라 \"러, 한주간 전역에 대규모 공격…동부 전투 치열\"\n",
      "https://news.nate.com/view/20250329n00775?mid=n0500\n",
      "젤렌스키 \"美, 새 광물 협정안 보내…美원조, 대출 아냐\"\n",
      "https://news.nate.com/view/20250326n01175?mid=n0500\n",
      "젤렌스키 \"부분휴전은 즉시 발효…러 위반 땐 美에 제재요청\"\n",
      "https://news.nate.com/view/20250402n04682?mid=n0500\n",
      "이시바, 美에 관세 제외 강력 요구 \"필요시 트럼프와 직접 협상\"\n",
      "https://news.nate.com/view/20250401n19051?mid=n0500\n",
      "日이시바 \"美관세 제외 강하게 요구…상담창구 1천곳 개설\"\n",
      "https://news.nate.com/view/20250319n08660?mid=n0500\n",
      "'100만원 상품권'은 해묵은 日정치관행?…\"기시다도 3년전 배포\"\n",
      "https://news.nate.com/view/20250317n06768?mid=n0500\n",
      "'상품권스캔들' 뭐길래…일본 이시바 지지율 23% '퇴진위기 수준'\n",
      "https://news.nate.com/view/20250314n32926?mid=n0500\n",
      "\"의원 15명에 상품권\"…이시바 취임 5개월 만에 '위기'\n",
      "https://news.nate.com/view/20250314n23089?mid=n0500\n",
      "日이시바 총리, '상품권 스캔들'에 휘청…정권 위기 커져\n",
      "https://news.nate.com/view/20250408n07472?mid=n0500\n",
      "\"사람 발견하면 발포\" 이스라엘, 가자지구에 '살인구역' 조성\n",
      "https://news.nate.com/view/20250408n03215?mid=n0500\n",
      "다시 지옥이 된 가자지구…이스라엘 50% 이상 통제\n",
      "https://news.nate.com/view/20250407n03646?mid=n0500\n",
      "\"하마스, 이스라엘 파괴 대가로 이란에 7300억원 요청\"\n",
      "https://news.nate.com/view/20250407n01474?mid=n0500\n",
      "\"이스라엘군, 구호요원 총격 살해\"…전쟁범죄 입증 영상 공개돼 파문\n",
      "https://news.nate.com/view/20250402n08367?mid=n0500\n",
      "\"빵을 못구해요\"…가자지구, '밀가루·연료 바닥' 빵집 모두 문닫아\n"
     ]
    }
   ],
   "source": [
    "print_news(500)"
   ]
  },
  {
   "cell_type": "markdown",
   "id": "9e6cd682",
   "metadata": {},
   "source": [
    "2-1. Nate 뉴스기사 이미지 스크래핑하기"
   ]
  },
  {
   "cell_type": "code",
   "execution_count": 49,
   "id": "ec626d51",
   "metadata": {},
   "outputs": [
    {
     "name": "stdout",
     "output_type": "stream",
     "text": [
      "====> 최신뉴스 <====\n",
      "'세 경기 무실점' 김천, 수원FC 누르고 3연승 달린다\n",
      "https://news.nate.com/view/20250409n34248?mid=n0100\n",
      "https://thumbnews.nateimg.co.kr/news90///news.nateimg.co.kr/orgImg/sk/2025/04/09/SK004_20250409_020601.jpg\n"
     ]
    },
    {
     "data": {
      "image/jpeg": "[encoded data removed]",
      "text/plain": [
       "<IPython.core.display.Image object>"
      ]
     },
     "metadata": {},
     "output_type": "display_data"
    },
    {
     "name": "stdout",
     "output_type": "stream",
     "text": [
      "軍 \"무인기·헬기 충돌사고, '돌풍' 등 외부요인 때문\" 결론\n",
      "https://news.nate.com/view/20250409n34247?mid=n0100\n",
      "https://thumbnews.nateimg.co.kr/news90///news.nateimg.co.kr/orgImg/na/2025/04/09/7184417_high.jpg\n"
     ]
    },
    {
     "data": {
      "image/jpeg": "[encoded data removed]",
      "text/plain": [
       "<IPython.core.display.Image object>"
      ]
     },
     "metadata": {},
     "output_type": "display_data"
    },
    {
     "name": "stdout",
     "output_type": "stream",
     "text": [
      "\"아이 낳았어요\" 한마디면 OK···남성 육아휴직 사용률 '100%' 그 기업 어디?\n",
      "https://news.nate.com/view/20250409n31659?mid=n0100\n",
      "https://thumbnews.nateimg.co.kr/news90///news.nateimg.co.kr/orgImg/se/2025/04/09/2GRGET4HKP_2.jpg\n"
     ]
    },
    {
     "data": {
      "image/jpeg": "[encoded data removed]",
      "text/plain": [
       "<IPython.core.display.Image object>"
      ]
     },
     "metadata": {},
     "output_type": "display_data"
    },
    {
     "name": "stdout",
     "output_type": "stream",
     "text": [
      "====> 정치 <====\n",
      "\"부동산PF 건전성 강화\"…다올·SK증권 등 소형사, NCR 리스크 가중\n",
      "https://news.nate.com/view/20250409n34203?mid=n0000\n",
      "https://thumbnews.nateimg.co.kr/news90///news.nateimg.co.kr/orgImg/mw/2025/04/09/2025040917214488836_1.jpg\n"
     ]
    },
    {
     "data": {
      "image/jpeg": "[encoded data removed]",
      "text/plain": [
       "<IPython.core.display.Image object>"
      ]
     },
     "metadata": {},
     "output_type": "display_data"
    },
    {
     "name": "stdout",
     "output_type": "stream",
     "text": [
      "'한덕수 월권을 막아라'…쏟아지는 법률적 방패들\n",
      "https://news.nate.com/view/20250409n33732?mid=n0000\n",
      "https://thumbnews.nateimg.co.kr/news90///news.nateimg.co.kr/orgImg/oh/2025/04/09/IE003440594_STD.jpg\n"
     ]
    },
    {
     "data": {
      "image/jpeg": "[encoded data removed]",
      "text/plain": [
       "<IPython.core.display.Image object>"
      ]
     },
     "metadata": {},
     "output_type": "display_data"
    },
    {
     "name": "stdout",
     "output_type": "stream",
     "text": [
      "한덕수 권한대행 향해 헌법재판관 지명 철회 촉구하는 野 초선들\n",
      "https://news.nate.com/view/20250409n29998?mid=n0000\n",
      "https://thumbnews.nateimg.co.kr/news90///news.nateimg.co.kr/orgImg/na/2025/04/09/7226856_high.jpg\n"
     ]
    },
    {
     "data": {
      "image/jpeg": "[encoded data removed]",
      "text/plain": [
       "<IPython.core.display.Image object>"
      ]
     },
     "metadata": {},
     "output_type": "display_data"
    },
    {
     "name": "stdout",
     "output_type": "stream",
     "text": [
      "====> 경제 <====\n",
      "\"부동산PF 건전성 강화\"…다올·SK증권 등 소형사, NCR 리스크 가중\n",
      "https://news.nate.com/view/20250409n34203?mid=n0000\n",
      "https://thumbnews.nateimg.co.kr/news90///news.nateimg.co.kr/orgImg/mw/2025/04/09/2025040917214488836_1.jpg\n"
     ]
    },
    {
     "data": {
      "image/jpeg": "[encoded data removed]",
      "text/plain": [
       "<IPython.core.display.Image object>"
      ]
     },
     "metadata": {},
     "output_type": "display_data"
    },
    {
     "name": "stdout",
     "output_type": "stream",
     "text": [
      "'한덕수 월권을 막아라'…쏟아지는 법률적 방패들\n",
      "https://news.nate.com/view/20250409n33732?mid=n0000\n",
      "https://thumbnews.nateimg.co.kr/news90///news.nateimg.co.kr/orgImg/oh/2025/04/09/IE003440594_STD.jpg\n"
     ]
    },
    {
     "data": {
      "image/jpeg": "[encoded data removed]",
      "text/plain": [
       "<IPython.core.display.Image object>"
      ]
     },
     "metadata": {},
     "output_type": "display_data"
    },
    {
     "name": "stdout",
     "output_type": "stream",
     "text": [
      "한덕수 권한대행 향해 헌법재판관 지명 철회 촉구하는 野 초선들\n",
      "https://news.nate.com/view/20250409n29998?mid=n0000\n",
      "https://thumbnews.nateimg.co.kr/news90///news.nateimg.co.kr/orgImg/na/2025/04/09/7226856_high.jpg\n"
     ]
    },
    {
     "data": {
      "image/jpeg": "[encoded data removed]",
      "text/plain": [
       "<IPython.core.display.Image object>"
      ]
     },
     "metadata": {},
     "output_type": "display_data"
    },
    {
     "name": "stdout",
     "output_type": "stream",
     "text": [
      "====> 사회 <====\n",
      "\"부동산PF 건전성 강화\"…다올·SK증권 등 소형사, NCR 리스크 가중\n",
      "https://news.nate.com/view/20250409n34203?mid=n0000\n",
      "https://thumbnews.nateimg.co.kr/news90///news.nateimg.co.kr/orgImg/mw/2025/04/09/2025040917214488836_1.jpg\n"
     ]
    },
    {
     "data": {
      "image/jpeg": "[encoded data removed]",
      "text/plain": [
       "<IPython.core.display.Image object>"
      ]
     },
     "metadata": {},
     "output_type": "display_data"
    },
    {
     "name": "stdout",
     "output_type": "stream",
     "text": [
      "'한덕수 월권을 막아라'…쏟아지는 법률적 방패들\n",
      "https://news.nate.com/view/20250409n33732?mid=n0000\n",
      "https://thumbnews.nateimg.co.kr/news90///news.nateimg.co.kr/orgImg/oh/2025/04/09/IE003440594_STD.jpg\n"
     ]
    },
    {
     "data": {
      "image/jpeg": "[encoded data removed]",
      "text/plain": [
       "<IPython.core.display.Image object>"
      ]
     },
     "metadata": {},
     "output_type": "display_data"
    },
    {
     "name": "stdout",
     "output_type": "stream",
     "text": [
      "한덕수 권한대행 향해 헌법재판관 지명 철회 촉구하는 野 초선들\n",
      "https://news.nate.com/view/20250409n29998?mid=n0000\n",
      "https://thumbnews.nateimg.co.kr/news90///news.nateimg.co.kr/orgImg/na/2025/04/09/7226856_high.jpg\n"
     ]
    },
    {
     "data": {
      "image/jpeg": "[encoded data removed]",
      "text/plain": [
       "<IPython.core.display.Image object>"
      ]
     },
     "metadata": {},
     "output_type": "display_data"
    },
    {
     "name": "stdout",
     "output_type": "stream",
     "text": [
      "====> 세계 <====\n",
      "\"부동산PF 건전성 강화\"…다올·SK증권 등 소형사, NCR 리스크 가중\n",
      "https://news.nate.com/view/20250409n34203?mid=n0000\n",
      "https://thumbnews.nateimg.co.kr/news90///news.nateimg.co.kr/orgImg/mw/2025/04/09/2025040917214488836_1.jpg\n"
     ]
    },
    {
     "data": {
      "image/jpeg": "[encoded data removed]",
      "text/plain": [
       "<IPython.core.display.Image object>"
      ]
     },
     "metadata": {},
     "output_type": "display_data"
    },
    {
     "name": "stdout",
     "output_type": "stream",
     "text": [
      "'한덕수 월권을 막아라'…쏟아지는 법률적 방패들\n",
      "https://news.nate.com/view/20250409n33732?mid=n0000\n",
      "https://thumbnews.nateimg.co.kr/news90///news.nateimg.co.kr/orgImg/oh/2025/04/09/IE003440594_STD.jpg\n"
     ]
    },
    {
     "data": {
      "image/jpeg": "[encoded data removed]",
      "text/plain": [
       "<IPython.core.display.Image object>"
      ]
     },
     "metadata": {},
     "output_type": "display_data"
    },
    {
     "name": "stdout",
     "output_type": "stream",
     "text": [
      "한덕수 권한대행 향해 헌법재판관 지명 철회 촉구하는 野 초선들\n",
      "https://news.nate.com/view/20250409n29998?mid=n0000\n",
      "https://thumbnews.nateimg.co.kr/news90///news.nateimg.co.kr/orgImg/na/2025/04/09/7226856_high.jpg\n"
     ]
    },
    {
     "data": {
      "image/jpeg": "[encoded data removed]",
      "text/plain": [
       "<IPython.core.display.Image object>"
      ]
     },
     "metadata": {},
     "output_type": "display_data"
    },
    {
     "name": "stdout",
     "output_type": "stream",
     "text": [
      "====> IT/과학 <====\n",
      "\"부동산PF 건전성 강화\"…다올·SK증권 등 소형사, NCR 리스크 가중\n",
      "https://news.nate.com/view/20250409n34203?mid=n0000\n",
      "https://thumbnews.nateimg.co.kr/news90///news.nateimg.co.kr/orgImg/mw/2025/04/09/2025040917214488836_1.jpg\n"
     ]
    },
    {
     "data": {
      "image/jpeg": "[encoded data removed]",
      "text/plain": [
       "<IPython.core.display.Image object>"
      ]
     },
     "metadata": {},
     "output_type": "display_data"
    },
    {
     "name": "stdout",
     "output_type": "stream",
     "text": [
      "'한덕수 월권을 막아라'…쏟아지는 법률적 방패들\n",
      "https://news.nate.com/view/20250409n33732?mid=n0000\n",
      "https://thumbnews.nateimg.co.kr/news90///news.nateimg.co.kr/orgImg/oh/2025/04/09/IE003440594_STD.jpg\n"
     ]
    },
    {
     "data": {
      "image/jpeg": "[encoded data removed]",
      "text/plain": [
       "<IPython.core.display.Image object>"
      ]
     },
     "metadata": {},
     "output_type": "display_data"
    },
    {
     "name": "stdout",
     "output_type": "stream",
     "text": [
      "한덕수 권한대행 향해 헌법재판관 지명 철회 촉구하는 野 초선들\n",
      "https://news.nate.com/view/20250409n29998?mid=n0000\n",
      "https://thumbnews.nateimg.co.kr/news90///news.nateimg.co.kr/orgImg/na/2025/04/09/7226856_high.jpg\n"
     ]
    },
    {
     "data": {
      "image/jpeg": "[encoded data removed]",
      "text/plain": [
       "<IPython.core.display.Image object>"
      ]
     },
     "metadata": {},
     "output_type": "display_data"
    }
   ],
   "source": [
    "import requests\n",
    "from bs4 import BeautifulSoup\n",
    "from urllib.parse import urljoin\n",
    "from IPython.display import Image, display\n",
    "\n",
    "# 섹션 리스트\n",
    "sections = {\n",
    "    \"최신뉴스\": \"n0100\",\n",
    "    \"정치\": \"n0200\",\n",
    "    \"경제\": \"n0300\",\n",
    "    \"사회\": \"n0400\",\n",
    "    \"세계\": \"n0500\",\n",
    "    \"IT/과학\": \"n0600\",\n",
    "}\n",
    "\n",
    "url = \"https://news.nate.com/recent?mid=\"\n",
    "\n",
    "req_header = {\n",
    "        \"user-agent\": \"Mozilla/5.0 (Windows NT 10.0; Win64; x64) AppleWebKit/537.36 (KHTML, like Gecko) Chrome/104.0.0.0 Safari/537.36\"\n",
    "}\n",
    "\n",
    "# 각 섹션마다 스크래핑\n",
    "for name, code in sections.items():\n",
    "    print(f\"====> {name} <====\")\n",
    "    url = url + code\n",
    "    res = requests.get(url, headers=req_header)\n",
    "\n",
    "    soup = BeautifulSoup(res.text, \"html.parser\")\n",
    "\n",
    "    # 기사 div 추출\n",
    "    news_items = soup.select(\"div.mlt01\")\n",
    "\n",
    "    for item in news_items[:3]:  # 섹션 당 3개 기사만 출력\n",
    "        a_tag = item.select_one(\"a.lt1\")\n",
    "        title_tag = a_tag.select_one(\"h2.tit\")\n",
    "        img_tag = a_tag.select_one(\"img\")\n",
    "\n",
    "        title = title_tag.text.strip()\n",
    "        link = urljoin(\"https://news.nate.com\", a_tag[\"href\"])\n",
    "\n",
    "        print(title)\n",
    "        print(link)\n",
    "\n",
    "        if img_tag:\n",
    "            img_url = urljoin(\"https:\", img_tag[\"src\"])\n",
    "            print(img_url)\n",
    "            display(Image(img_url))\n"
   ]
  },
  {
   "cell_type": "markdown",
   "id": "eeed3d1c",
   "metadata": {},
   "source": [
    "2-2. 하나의 네이버 웹툰과 1개의 회차에 대한 Image 다운로드 하기"
   ]
  },
  {
   "cell_type": "code",
   "execution_count": 37,
   "id": "8c9ca671",
   "metadata": {},
   "outputs": [],
   "source": [
    "import requests\n",
    "from bs4 import BeautifulSoup\n",
    "import os\n",
    "\n",
    "def download_one_episode(title, no, url):\n",
    "    \n",
    "    req_header = {\n",
    "        'referer': url\n",
    "    }\n",
    "\n",
    "    res = requests.get(url)\n",
    "    if res.ok:\n",
    "        soup = BeautifulSoup(res.text, 'html.parser')\n",
    "        img_tags = soup.select(\"img[src*='IMAG01']\")\n",
    "        \n",
    "        img_url_list = [img['src'] for img in img_tags]\n",
    "        imgdir_name = os.path.join('img', title, str(no))\n",
    "        if not os.path.isdir(imgdir_name):\n",
    "            os.makedirs(imgdir_name)\n",
    "\n",
    "        # 이미지 다운로드 및 저장\n",
    "        for img_url in img_url_list:\n",
    "            res = requests.get(img_url, headers=req_header)\n",
    "            if res.ok:\n",
    "                img_data = res.content\n",
    "                file_name = os.path.basename(img_url)\n",
    "                file_path = os.path.join(imgdir_name, file_name)\n",
    "                with open(file_path, 'wb') as file:\n",
    "                    file.write(img_data)\n",
    "                print(f'Writing to {file_path} ({len(img_data):,} bytes)')\n",
    "            else:\n",
    "                print(f'Error Code = {res.status_code}')\n",
    "    else:\n",
    "        print(f'Error Code = {res.status_code}')"
   ]
  },
  {
   "cell_type": "code",
   "execution_count": 38,
   "id": "cba941be",
   "metadata": {},
   "outputs": [
    {
     "name": "stdout",
     "output_type": "stream",
     "text": [
      "Writing to img\\낢이사는이야기\\48\\20250310103947_792197c569e377c7f369fe9d6f2bd961_IMAG01_1.jpg (166,289 bytes)\n",
      "Writing to img\\낢이사는이야기\\48\\20250310103947_792197c569e377c7f369fe9d6f2bd961_IMAG01_2.jpg (117,581 bytes)\n",
      "Writing to img\\낢이사는이야기\\48\\20250310103947_792197c569e377c7f369fe9d6f2bd961_IMAG01_3.jpg (175,647 bytes)\n",
      "Writing to img\\낢이사는이야기\\48\\20250310103947_792197c569e377c7f369fe9d6f2bd961_IMAG01_4.jpg (140,295 bytes)\n",
      "Writing to img\\낢이사는이야기\\48\\20250310103947_792197c569e377c7f369fe9d6f2bd961_IMAG01_5.jpg (115,277 bytes)\n",
      "Writing to img\\낢이사는이야기\\48\\20250310103947_792197c569e377c7f369fe9d6f2bd961_IMAG01_6.jpg (86,840 bytes)\n",
      "Writing to img\\낢이사는이야기\\48\\20250310103947_792197c569e377c7f369fe9d6f2bd961_IMAG01_7.jpg (151,280 bytes)\n",
      "Writing to img\\낢이사는이야기\\48\\20250310103947_792197c569e377c7f369fe9d6f2bd961_IMAG01_8.jpg (146,198 bytes)\n",
      "Writing to img\\낢이사는이야기\\48\\20250310103947_792197c569e377c7f369fe9d6f2bd961_IMAG01_9.jpg (86,460 bytes)\n",
      "Writing to img\\낢이사는이야기\\48\\20250310103947_792197c569e377c7f369fe9d6f2bd961_IMAG01_10.jpg (152,631 bytes)\n",
      "Writing to img\\낢이사는이야기\\48\\20250310103947_792197c569e377c7f369fe9d6f2bd961_IMAG01_11.jpg (236,174 bytes)\n",
      "Writing to img\\낢이사는이야기\\48\\20250310103947_792197c569e377c7f369fe9d6f2bd961_IMAG01_12.jpg (218,403 bytes)\n",
      "Writing to img\\낢이사는이야기\\48\\20250310103947_792197c569e377c7f369fe9d6f2bd961_IMAG01_13.jpg (126,874 bytes)\n",
      "Writing to img\\낢이사는이야기\\48\\20250310103947_792197c569e377c7f369fe9d6f2bd961_IMAG01_14.jpg (169,822 bytes)\n",
      "Writing to img\\낢이사는이야기\\48\\20250310103947_792197c569e377c7f369fe9d6f2bd961_IMAG01_15.jpg (100,097 bytes)\n",
      "Writing to img\\낢이사는이야기\\48\\20250310103947_792197c569e377c7f369fe9d6f2bd961_IMAG01_16.jpg (138,348 bytes)\n",
      "Writing to img\\낢이사는이야기\\48\\20250310103947_792197c569e377c7f369fe9d6f2bd961_IMAG01_17.jpg (136,580 bytes)\n",
      "Writing to img\\낢이사는이야기\\48\\20250310103947_792197c569e377c7f369fe9d6f2bd961_IMAG01_18.jpg (127,154 bytes)\n",
      "Writing to img\\낢이사는이야기\\48\\20250310103947_792197c569e377c7f369fe9d6f2bd961_IMAG01_19.jpg (155,183 bytes)\n",
      "Writing to img\\낢이사는이야기\\48\\20250310103947_792197c569e377c7f369fe9d6f2bd961_IMAG01_20.jpg (175,333 bytes)\n",
      "Writing to img\\낢이사는이야기\\48\\20250310103947_792197c569e377c7f369fe9d6f2bd961_IMAG01_21.jpg (108,840 bytes)\n",
      "Writing to img\\낢이사는이야기\\48\\20250310103947_792197c569e377c7f369fe9d6f2bd961_IMAG01_22.jpg (107,072 bytes)\n",
      "Writing to img\\낢이사는이야기\\48\\20250310103947_792197c569e377c7f369fe9d6f2bd961_IMAG01_23.jpg (9,392 bytes)\n"
     ]
    }
   ],
   "source": [
    "download_one_episode('낢이사는이야기', '48', 'https://comic.naver.com/webtoon/detail?titleId=833255&no=49&week=tue')"
   ]
  }
 ],
 "metadata": {
  "kernelspec": {
   "display_name": "base",
   "language": "python",
   "name": "python3"
  },
  "language_info": {
   "codemirror_mode": {
    "name": "ipython",
    "version": 3
   },
   "file_extension": ".py",
   "mimetype": "text/x-python",
   "name": "python",
   "nbconvert_exporter": "python",
   "pygments_lexer": "ipython3",
   "version": "3.12.7"
  }
 },
 "nbformat": 4,
 "nbformat_minor": 5
}
