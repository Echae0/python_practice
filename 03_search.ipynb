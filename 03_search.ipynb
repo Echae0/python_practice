{
 "cells": [
  {
   "cell_type": "markdown",
   "id": "99551924",
   "metadata": {},
   "source": [
    "3-1. "
   ]
  },
  {
   "cell_type": "code",
   "execution_count": null,
   "id": "4594c677",
   "metadata": {},
   "outputs": [],
   "source": []
  },
  {
   "cell_type": "markdown",
   "id": "207a79e8",
   "metadata": {},
   "source": [
    "3-2. "
   ]
  },
  {
   "cell_type": "code",
   "execution_count": null,
   "id": "68e62531",
   "metadata": {},
   "outputs": [],
   "source": []
  }
 ],
 "metadata": {
  "language_info": {
   "name": "python"
  }
 },
 "nbformat": 4,
 "nbformat_minor": 5
}
